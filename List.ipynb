{
 "cells": [
  {
   "cell_type": "code",
   "execution_count": 1,
   "id": "b996a7bf",
   "metadata": {},
   "outputs": [
    {
     "name": "stdout",
     "output_type": "stream",
     "text": [
      "['eggs', 'milk']\n"
     ]
    }
   ],
   "source": [
    "bestSellers = ['eggs', 'milk']\n",
    "print(bestSellers)"
   ]
  },
  {
   "cell_type": "code",
   "execution_count": 2,
   "id": "7e90040f",
   "metadata": {},
   "outputs": [
    {
     "name": "stdout",
     "output_type": "stream",
     "text": [
      "['eggs', 'milk', 'nuts']\n"
     ]
    }
   ],
   "source": [
    "bestSellers.append('nuts')\n",
    "print(bestSellers)"
   ]
  },
  {
   "cell_type": "code",
   "execution_count": 3,
   "id": "b3dfc800",
   "metadata": {},
   "outputs": [
    {
     "name": "stdout",
     "output_type": "stream",
     "text": [
      "['eggs', 'milk', 'nuts', 'banana', 'bread']\n"
     ]
    }
   ],
   "source": [
    "new_items = ['banana', 'bread']\n",
    "bestSellers.extend(new_items)\n",
    "print(bestSellers)"
   ]
  },
  {
   "cell_type": "code",
   "execution_count": 4,
   "id": "f984bcff",
   "metadata": {},
   "outputs": [
    {
     "name": "stdout",
     "output_type": "stream",
     "text": [
      "['eggs', 'milk', 'nuts', 'banana', 'jelly', 'bread']\n"
     ]
    }
   ],
   "source": [
    "bestSellers.insert(4,'jelly')\n",
    "print(bestSellers)"
   ]
  },
  {
   "cell_type": "code",
   "execution_count": 5,
   "id": "8c8def82",
   "metadata": {},
   "outputs": [
    {
     "name": "stdout",
     "output_type": "stream",
     "text": [
      "['eggs', 'milk', 'nuts', 'banana', 'bread']\n"
     ]
    }
   ],
   "source": [
    "bestSellers.remove('jelly')\n",
    "print(bestSellers)"
   ]
  },
  {
   "cell_type": "code",
   "execution_count": 7,
   "id": "c6445783",
   "metadata": {},
   "outputs": [
    {
     "name": "stdout",
     "output_type": "stream",
     "text": [
      "['eggs', 'milk', 'nuts']\n"
     ]
    }
   ],
   "source": [
    "top_three = bestSellers[0:3]\n",
    "print(top_three)"
   ]
  },
  {
   "cell_type": "code",
   "execution_count": null,
   "id": "2061a919",
   "metadata": {},
   "outputs": [],
   "source": []
  }
 ],
 "metadata": {
  "kernelspec": {
   "display_name": "Python 3 (ipykernel)",
   "language": "python",
   "name": "python3"
  },
  "language_info": {
   "codemirror_mode": {
    "name": "ipython",
    "version": 3
   },
   "file_extension": ".py",
   "mimetype": "text/x-python",
   "name": "python",
   "nbconvert_exporter": "python",
   "pygments_lexer": "ipython3",
   "version": "3.11.5"
  }
 },
 "nbformat": 4,
 "nbformat_minor": 5
}
