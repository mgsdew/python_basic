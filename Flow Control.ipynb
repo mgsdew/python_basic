{
 "cells": [
  {
   "cell_type": "code",
   "execution_count": 5,
   "id": "14e780d3",
   "metadata": {},
   "outputs": [
    {
     "name": "stdout",
     "output_type": "stream",
     "text": [
      "Wear a jacket and go for a walk!\n"
     ]
    }
   ],
   "source": [
    "temperature = 12\n",
    "\n",
    "if temperature < 0:\n",
    "    recommend_activity ='Stay indoors and keep warm!'\n",
    "elif temperature < 18:\n",
    "    recommend_activity = 'Wear a jacket and go for a walk!'\n",
    "else:\n",
    "    recommend_activity = 'Enjoy the sun and go for a swim!'\n",
    "    \n",
    "    \n",
    "print(recommend_activity)"
   ]
  },
  {
   "cell_type": "code",
   "execution_count": 1,
   "id": "26c288d6",
   "metadata": {},
   "outputs": [
    {
     "name": "stdout",
     "output_type": "stream",
     "text": [
      "Saturdays workout:\n",
      "- Shopping x 10\n",
      "- Washing Clothes x 10\n",
      "Sundays workout:\n",
      "- Cooking x 10\n",
      "- Iron Clothes x 10\n"
     ]
    }
   ],
   "source": [
    "print_workout_plan = {\n",
    "    'Saturday' : ['Shopping', 'Washing Clothes'],\n",
    "    'Sunday' : ['Cooking', 'Iron Clothes']\n",
    "}\n",
    "\n",
    "for day, exercises in print_workout_plan.items():\n",
    "    print(f\"{day}s workout:\")\n",
    "    for exercise in exercises:\n",
    "       print(f\"- {exercise} x 10\")"
   ]
  },
  {
   "cell_type": "code",
   "execution_count": 2,
   "id": "1ccbe25e",
   "metadata": {},
   "outputs": [
    {
     "name": "stdout",
     "output_type": "stream",
     "text": [
      "Chatbot: you said: 'hi'\n",
      "Chatbot: you said: 'how are you'\n",
      "You didn't said anything!\n",
      "Chatbot: you said: 'tell me a joke'\n",
      "Have a good day!\n"
     ]
    }
   ],
   "source": [
    "messages = [\"hi\", \"how are you\", \"\", \"tell me a joke\",\"bye\"]\n",
    "\n",
    "for message in messages:\n",
    "    if message == \"bye\":\n",
    "        print(\"Have a good day!\")\n",
    "        break\n",
    "    elif message == \"\":\n",
    "        print(\"You didn't said anything!\")\n",
    "        continue\n",
    "    else:\n",
    "        print(f\"Chatbot: you said: '{message}'\")"
   ]
  },
  {
   "cell_type": "code",
   "execution_count": 11,
   "id": "832a39ff",
   "metadata": {},
   "outputs": [
    {
     "name": "stdout",
     "output_type": "stream",
     "text": [
      "6\n",
      "Five encountered!\n"
     ]
    }
   ],
   "source": [
    "user_input = input()\n",
    "number = 1 \n",
    "\n",
    "while number < int(user_input):\n",
    "    if number == 5:\n",
    "        print(\"Five encountered!\")\n",
    "        break\n",
    "    else:\n",
    "        number += 1\n",
    "        continue\n",
    "    \n",
    " "
   ]
  },
  {
   "cell_type": "code",
   "execution_count": null,
   "id": "057cd3f4",
   "metadata": {},
   "outputs": [],
   "source": []
  }
 ],
 "metadata": {
  "kernelspec": {
   "display_name": "Python 3 (ipykernel)",
   "language": "python",
   "name": "python3"
  },
  "language_info": {
   "codemirror_mode": {
    "name": "ipython",
    "version": 3
   },
   "file_extension": ".py",
   "mimetype": "text/x-python",
   "name": "python",
   "nbconvert_exporter": "python",
   "pygments_lexer": "ipython3",
   "version": "3.11.5"
  }
 },
 "nbformat": 4,
 "nbformat_minor": 5
}
