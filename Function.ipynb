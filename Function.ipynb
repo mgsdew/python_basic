{
 "cells": [
  {
   "cell_type": "code",
   "execution_count": 13,
   "id": "68902cb7",
   "metadata": {},
   "outputs": [],
   "source": [
    "def compound_interest(principal, rate, time):\n",
    "    amount = principal*(1+rate/100) ** time\n",
    "    interest = amount - principal\n",
    "    return interest"
   ]
  },
  {
   "cell_type": "code",
   "execution_count": 14,
   "id": "c72ecfc0",
   "metadata": {},
   "outputs": [
    {
     "name": "stdout",
     "output_type": "stream",
     "text": [
      "216.65290240000013\n"
     ]
    }
   ],
   "source": [
    "interest1 = compound_interest(1000,4,5)\n",
    "print(interest1)"
   ]
  },
  {
   "cell_type": "code",
   "execution_count": 16,
   "id": "7d731a36",
   "metadata": {},
   "outputs": [
    {
     "name": "stdout",
     "output_type": "stream",
     "text": [
      "216.65290240000013\n"
     ]
    }
   ],
   "source": [
    "def calculate_total_amount(principal, rate, time):\n",
    "    amount = principal*(1+rate/100)**time\n",
    "    interest = amount - principal\n",
    "    return interest\n",
    "\n",
    "interest1 = calculate_total_amount(1000,4,5)\n",
    "print(interest1)"
   ]
  },
  {
   "cell_type": "code",
   "execution_count": 17,
   "id": "1db949bd",
   "metadata": {},
   "outputs": [],
   "source": [
    "def trip_cost(distance, transportation, discount=0):\n",
    "    if transportation == \"car\":\n",
    "        cost = distance * 0.5\n",
    "    elif transportation == \"train\":\n",
    "        cost = distance * 0.3\n",
    "    else:\n",
    "        cost =  distance * 1.0\n",
    "    cost = cost - discount\n",
    "    return cost\n"
   ]
  },
  {
   "cell_type": "code",
   "execution_count": 18,
   "id": "00260331",
   "metadata": {},
   "outputs": [
    {
     "name": "stdout",
     "output_type": "stream",
     "text": [
      "Car trip cost:  150.0\n",
      "Train trip cost:  58.0\n"
     ]
    }
   ],
   "source": [
    "car_trip = trip_cost(300, \"car\")\n",
    "train_trip = trip_cost(200, \"train\", discount = 2)\n",
    "print(\"Car trip cost: \", car_trip)\n",
    "print(\"Train trip cost: \", train_trip)"
   ]
  },
  {
   "cell_type": "code",
   "execution_count": 19,
   "id": "1ef84cce",
   "metadata": {},
   "outputs": [
    {
     "name": "stdout",
     "output_type": "stream",
     "text": [
      "Sum:  8\n"
     ]
    }
   ],
   "source": [
    "# Lambda function\n",
    "add = lambda x,y:x+y\n",
    "result = add(3,5)\n",
    "print(\"Sum: \", result)"
   ]
  },
  {
   "cell_type": "code",
   "execution_count": 20,
   "id": "f41422c8",
   "metadata": {},
   "outputs": [
    {
     "name": "stdout",
     "output_type": "stream",
     "text": [
      "[('task 2', 1), ('task 3', 2), ('task 1', 3)]\n"
     ]
    }
   ],
   "source": [
    "tasks = [\n",
    "    (\"task 1\", 3),\n",
    "    (\"task 2\", 1),\n",
    "    (\"task 3\", 2)\n",
    "]\n",
    "sorted_tasks = sorted(tasks, key=lambda task:task[1])\n",
    "print(sorted_tasks)"
   ]
  },
  {
   "cell_type": "code",
   "execution_count": null,
   "id": "210b47ca",
   "metadata": {},
   "outputs": [],
   "source": []
  }
 ],
 "metadata": {
  "kernelspec": {
   "display_name": "Python 3 (ipykernel)",
   "language": "python",
   "name": "python3"
  },
  "language_info": {
   "codemirror_mode": {
    "name": "ipython",
    "version": 3
   },
   "file_extension": ".py",
   "mimetype": "text/x-python",
   "name": "python",
   "nbconvert_exporter": "python",
   "pygments_lexer": "ipython3",
   "version": "3.11.5"
  }
 },
 "nbformat": 4,
 "nbformat_minor": 5
}
