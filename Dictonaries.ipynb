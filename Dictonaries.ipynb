{
 "cells": [
  {
   "cell_type": "code",
   "execution_count": 4,
   "id": "5c09af77",
   "metadata": {},
   "outputs": [
    {
     "name": "stdout",
     "output_type": "stream",
     "text": [
      "Average daily rental price: 47.5\n"
     ]
    }
   ],
   "source": [
    "car_rental = {\n",
    "              'car1': {'make': 'Toyota', 'model': 'Camry', 'daily_rental_price': 50}, \n",
    "              'car2': {'make': 'Honda', 'model': 'Civic', 'daily_rental_price': 45}\n",
    "             }\n",
    "\n",
    "total_price = 0\n",
    "\n",
    "for carId, carInfo in car_rental.items():\n",
    "    total_price += carInfo['daily_rental_price']\n",
    "    \n",
    "    average_price = total_price / len(car_rental)\n",
    "print('Average daily rental price:', average_price)\n"
   ]
  },
  {
   "cell_type": "code",
   "execution_count": null,
   "id": "5524f6da",
   "metadata": {},
   "outputs": [],
   "source": []
  },
  {
   "cell_type": "code",
   "execution_count": null,
   "id": "6be3b423",
   "metadata": {
    "scrolled": true
   },
   "outputs": [],
   "source": []
  },
  {
   "cell_type": "code",
   "execution_count": null,
   "id": "a4e60a5f",
   "metadata": {},
   "outputs": [],
   "source": []
  }
 ],
 "metadata": {
  "kernelspec": {
   "display_name": "Python 3 (ipykernel)",
   "language": "python",
   "name": "python3"
  },
  "language_info": {
   "codemirror_mode": {
    "name": "ipython",
    "version": 3
   },
   "file_extension": ".py",
   "mimetype": "text/x-python",
   "name": "python",
   "nbconvert_exporter": "python",
   "pygments_lexer": "ipython3",
   "version": "3.11.5"
  }
 },
 "nbformat": 4,
 "nbformat_minor": 5
}
