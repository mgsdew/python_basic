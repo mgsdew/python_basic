{
 "cells": [
  {
   "cell_type": "code",
   "execution_count": 1,
   "id": "aa79372e",
   "metadata": {},
   "outputs": [
    {
     "name": "stdout",
     "output_type": "stream",
     "text": [
      "{'egg', 'milk'}\n"
     ]
    }
   ],
   "source": [
    "component1 = {'egg', 'milk'}\n",
    "print(component1)"
   ]
  },
  {
   "cell_type": "code",
   "execution_count": 2,
   "id": "8d73f71a",
   "metadata": {},
   "outputs": [
    {
     "name": "stdout",
     "output_type": "stream",
     "text": [
      "{'egg', 'milk', 'bread'}\n"
     ]
    }
   ],
   "source": [
    "component1.add('bread')\n",
    "print(component1)"
   ]
  },
  {
   "cell_type": "code",
   "execution_count": 3,
   "id": "1f425d42",
   "metadata": {},
   "outputs": [
    {
     "name": "stdout",
     "output_type": "stream",
     "text": [
      "{'egg', 'bread'}\n"
     ]
    }
   ],
   "source": [
    "component1.remove('milk')\n",
    "print(component1)"
   ]
  },
  {
   "cell_type": "code",
   "execution_count": 4,
   "id": "1405ec5e",
   "metadata": {},
   "outputs": [
    {
     "data": {
      "text/plain": [
       "True"
      ]
     },
     "execution_count": 4,
     "metadata": {},
     "output_type": "execute_result"
    }
   ],
   "source": [
    "'bread' in component1"
   ]
  },
  {
   "cell_type": "code",
   "execution_count": 6,
   "id": "33e9e7de",
   "metadata": {},
   "outputs": [
    {
     "name": "stdout",
     "output_type": "stream",
     "text": [
      "{'sugar', 'egg', 'tea', 'bread'}\n"
     ]
    }
   ],
   "source": [
    "component2 = {'sugar', 'tea'}\n",
    "print(component1.union(component2))"
   ]
  },
  {
   "cell_type": "code",
   "execution_count": 8,
   "id": "58d7fc26",
   "metadata": {},
   "outputs": [
    {
     "name": "stdout",
     "output_type": "stream",
     "text": [
      "{'bread'}\n"
     ]
    }
   ],
   "source": [
    "component2.add('bread')\n",
    "print(component1.intersection(component2))"
   ]
  },
  {
   "cell_type": "code",
   "execution_count": 9,
   "id": "deb8f95e",
   "metadata": {},
   "outputs": [
    {
     "name": "stdout",
     "output_type": "stream",
     "text": [
      "{'egg'}\n"
     ]
    }
   ],
   "source": [
    "print(component1.difference(component2))"
   ]
  },
  {
   "cell_type": "code",
   "execution_count": 10,
   "id": "3e96c879",
   "metadata": {},
   "outputs": [
    {
     "name": "stdout",
     "output_type": "stream",
     "text": [
      "{'bread', 'sugar', 'egg', 'tea'}\n"
     ]
    }
   ],
   "source": [
    "print(component1.union(component2))"
   ]
  },
  {
   "cell_type": "code",
   "execution_count": 11,
   "id": "6f9e1a99",
   "metadata": {},
   "outputs": [
    {
     "name": "stdout",
     "output_type": "stream",
     "text": [
      "4\n"
     ]
    }
   ],
   "source": [
    "print(len(component1.union(component2)))"
   ]
  },
  {
   "cell_type": "code",
   "execution_count": 13,
   "id": "aab5327f",
   "metadata": {},
   "outputs": [
    {
     "name": "stdout",
     "output_type": "stream",
     "text": [
      "None\n"
     ]
    }
   ],
   "source": [
    "print(component1.clear())"
   ]
  },
  {
   "cell_type": "code",
   "execution_count": null,
   "id": "fbd5ecd7",
   "metadata": {},
   "outputs": [],
   "source": []
  }
 ],
 "metadata": {
  "kernelspec": {
   "display_name": "Python 3 (ipykernel)",
   "language": "python",
   "name": "python3"
  },
  "language_info": {
   "codemirror_mode": {
    "name": "ipython",
    "version": 3
   },
   "file_extension": ".py",
   "mimetype": "text/x-python",
   "name": "python",
   "nbconvert_exporter": "python",
   "pygments_lexer": "ipython3",
   "version": "3.11.5"
  }
 },
 "nbformat": 4,
 "nbformat_minor": 5
}
