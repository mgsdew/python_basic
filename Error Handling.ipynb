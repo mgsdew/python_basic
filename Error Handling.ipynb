{
 "cells": [
  {
   "cell_type": "code",
   "execution_count": 2,
   "id": "9e5eb4cf",
   "metadata": {},
   "outputs": [
    {
     "name": "stdout",
     "output_type": "stream",
     "text": [
      "25\n",
      "Completed the final block\n"
     ]
    }
   ],
   "source": [
    "try: \n",
    "    a = 10\n",
    "    b = \"string\"\n",
    "    c = 15\n",
    "    print(a+c)\n",
    "except:\n",
    "    print(\"Error occures, Data type missmatch\")\n",
    "\n",
    "print(\"Completed the final block\")"
   ]
  },
  {
   "cell_type": "code",
   "execution_count": null,
   "id": "ac9e0333",
   "metadata": {},
   "outputs": [],
   "source": []
  }
 ],
 "metadata": {
  "kernelspec": {
   "display_name": "Python 3 (ipykernel)",
   "language": "python",
   "name": "python3"
  },
  "language_info": {
   "codemirror_mode": {
    "name": "ipython",
    "version": 3
   },
   "file_extension": ".py",
   "mimetype": "text/x-python",
   "name": "python",
   "nbconvert_exporter": "python",
   "pygments_lexer": "ipython3",
   "version": "3.11.5"
  }
 },
 "nbformat": 4,
 "nbformat_minor": 5
}
